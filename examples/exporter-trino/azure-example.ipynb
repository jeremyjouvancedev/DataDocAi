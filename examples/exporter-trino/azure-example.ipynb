{
 "cells": [
  {
   "cell_type": "code",
   "id": "initial_id",
   "metadata": {
    "collapsed": true,
    "ExecuteTime": {
     "end_time": "2024-09-04T15:01:53.796895Z",
     "start_time": "2024-09-04T15:01:53.791520Z"
    }
   },
   "source": [
    "import logging, urllib3\n",
    "\n",
    "# Suppress all urllib3 warnings and errors\n",
    "logging.getLogger(\"urllib3\").setLevel(logging.CRITICAL)\n",
    "\n",
    "# Also, disable specific SSL warnings if using insecure connections\n",
    "urllib3.disable_warnings(urllib3.exceptions.InsecureRequestWarning)"
   ],
   "outputs": [],
   "execution_count": 14
  },
  {
   "metadata": {
    "ExecuteTime": {
     "end_time": "2024-09-04T15:01:53.861097Z",
     "start_time": "2024-09-04T15:01:53.851444Z"
    }
   },
   "cell_type": "code",
   "source": [
    "from dotenv import load_dotenv\n",
    "\n",
    "env_loaded = load_dotenv('../../.env-local')\n",
    "env_loaded"
   ],
   "id": "7d9090d02b4fff33",
   "outputs": [
    {
     "data": {
      "text/plain": [
       "True"
      ]
     },
     "execution_count": 15,
     "metadata": {},
     "output_type": "execute_result"
    }
   ],
   "execution_count": 15
  },
  {
   "metadata": {
    "ExecuteTime": {
     "end_time": "2024-09-04T15:01:53.980402Z",
     "start_time": "2024-09-04T15:01:53.974679Z"
    }
   },
   "cell_type": "code",
   "source": [
    "from datadocai.models import CurrentTable\n",
    "\n",
    "TRINO_CATALOG = 'postgres'\n",
    "TRINO_SCHEMA = 'public'\n",
    "TRINO_TABLE = 'house_pricing'\n",
    "\n",
    "# construct the table you want to analyse\n",
    "ct = CurrentTable(trino_catalog=TRINO_CATALOG,\n",
    "                  trino_schema=TRINO_SCHEMA,\n",
    "                  trino_table=TRINO_TABLE)"
   ],
   "id": "9a861015f8195f66",
   "outputs": [],
   "execution_count": 16
  },
  {
   "metadata": {
    "ExecuteTime": {
     "end_time": "2024-09-04T15:01:54.047048Z",
     "start_time": "2024-09-04T15:01:54.040148Z"
    }
   },
   "cell_type": "code",
   "source": [
    "import os\n",
    "from datadocai.database import DatabaseClient\n",
    "\n",
    "# connect to trino\n",
    "dc = DatabaseClient(host=os.getenv('TRINO_HOST'),\n",
    "                    port=os.getenv('TRINO_PORT'),\n",
    "                    user=os.getenv('TRINO_USER'),\n",
    "                    password=os.getenv('TRINO_PASSWORD'))"
   ],
   "id": "98de25fc0e0c9e16",
   "outputs": [
    {
     "name": "stdout",
     "output_type": "stream",
     "text": [
      "LOCAL connection\n"
     ]
    }
   ],
   "execution_count": 17
  },
  {
   "metadata": {},
   "cell_type": "markdown",
   "source": "## Show the table informations",
   "id": "826832c9ca72940a"
  },
  {
   "metadata": {
    "ExecuteTime": {
     "end_time": "2024-09-04T15:01:56.626657Z",
     "start_time": "2024-09-04T15:01:54.125334Z"
    }
   },
   "cell_type": "code",
   "source": [
    "cursor = dc.conn.cursor()\n",
    "cursor.execute(\n",
    "    f\"SHOW CREATE TABLE {ct.trino_catalog}.{ct.trino_schema}.{ct.trino_table}\")\n",
    "data = cursor.fetchall()\n",
    "description = cursor.description\n",
    "cursor.close()\n",
    "\n",
    "output = \"\\n\\n\"\n",
    "# Add column name\n",
    "\n",
    "for line in data:\n",
    "    output += \", \".join([str(c) for c in line])\n",
    "    output += \"\\n\"\n",
    "\n",
    "print(output)"
   ],
   "id": "9563a3df724a8252",
   "outputs": [
    {
     "name": "stdout",
     "output_type": "stream",
     "text": [
      "\n",
      "\n",
      "CREATE TABLE postgres.public.house_pricing (\n",
      "   id integer NOT NULL,\n",
      "   address varchar(255),\n",
      "   city varchar(100),\n",
      "   state varchar(100),\n",
      "   zip_code varchar(20),\n",
      "   square_feet integer,\n",
      "   bedrooms integer,\n",
      "   bathrooms decimal(2, 1),\n",
      "   listing_price decimal(12, 2),\n",
      "   sale_price decimal(12, 2),\n",
      "   listing_date date,\n",
      "   sale_date date,\n",
      "   status varchar(50)\n",
      ")\n",
      "\n"
     ]
    }
   ],
   "execution_count": 18
  },
  {
   "metadata": {
    "ExecuteTime": {
     "end_time": "2024-09-04T15:01:56.749710Z",
     "start_time": "2024-09-04T15:01:56.650107Z"
    }
   },
   "cell_type": "code",
   "source": [
    "from langchain_openai.chat_models import AzureChatOpenAI\n",
    "from httpx import Client\n",
    "\n",
    "llm = AzureChatOpenAI(\n",
    "    deployment_name=\"gpt-4o-mini\",\n",
    "    openai_api_version=\"2024-05-01-preview\",\n",
    "    streaming=True,\n",
    "    verbose=True,\n",
    "    http_client=Client(verify=False)\n",
    ")"
   ],
   "id": "578923673bc5c90",
   "outputs": [],
   "execution_count": 19
  },
  {
   "metadata": {
    "ExecuteTime": {
     "end_time": "2024-09-04T15:01:56.771967Z",
     "start_time": "2024-09-04T15:01:56.767400Z"
    }
   },
   "cell_type": "code",
   "source": [
    "from datadocai.metadata import TableMetadataManager\n",
    "from datadocai.metadata.exporter.trino import MetadataTrinoExporter\n",
    "\n",
    "metadata_exporter = MetadataTrinoExporter(current_table=ct, database_client=dc)\n",
    "\n",
    "tmm = TableMetadataManager(current_table=ct, database_client=dc, llm=llm, metadata_exporter=metadata_exporter)"
   ],
   "id": "de9b20865843bbf6",
   "outputs": [],
   "execution_count": 20
  },
  {
   "metadata": {
    "ExecuteTime": {
     "end_time": "2024-09-04T15:02:20.900875Z",
     "start_time": "2024-09-04T15:01:56.830492Z"
    }
   },
   "cell_type": "code",
   "source": [
    "# launch the process\n",
    "tmm.process()"
   ],
   "id": "92a578f2d87303a6",
   "outputs": [
    {
     "name": "stdout",
     "output_type": "stream",
     "text": [
      "\n",
      "        COMMENT ON TABLE postgres.public.house_pricing\n",
      "        IS 'The house_pricing table contains detailed information about residential properties, including their pricing, characteristics, and status during the listing and sale process. This table is essential for analyzing housing market trends, pricing strategies, and property features.'\n",
      "         The house_pricing table contains detailed information about residential properties, including their pricing, characteristics, and status during the listing and sale process. This table is essential for analyzing housing market trends, pricing strategies, and property features.\n",
      "postgres.public.house_pricing Set Documentation for column id\n",
      "postgres.public.house_pricing Set Documentation for column address\n",
      "postgres.public.house_pricing Set Documentation for column city\n",
      "postgres.public.house_pricing Set Documentation for column state\n",
      "postgres.public.house_pricing Set Documentation for column zip_code\n",
      "postgres.public.house_pricing Set Documentation for column square_feet\n",
      "postgres.public.house_pricing Set Documentation for column bedrooms\n",
      "postgres.public.house_pricing Set Documentation for column bathrooms\n",
      "postgres.public.house_pricing Set Documentation for column listing_price\n",
      "postgres.public.house_pricing Set Documentation for column sale_price\n",
      "postgres.public.house_pricing Set Documentation for column listing_date\n",
      "postgres.public.house_pricing Set Documentation for column sale_date\n",
      "postgres.public.house_pricing Set Documentation for column status\n"
     ]
    },
    {
     "data": {
      "text/plain": [
       "({'input': 'Create a documentation for the table: house_pricing',\n",
       "  'chat_history': [],\n",
       "  'agent_outcome': DocumentationTable(description='The house_pricing table contains detailed information about residential properties, including their pricing, characteristics, and status during the listing and sale process. This table is essential for analyzing housing market trends, pricing strategies, and property features.', columns={'id': DocumentationColumn(description='Unique identifier for each property listing.'), 'address': DocumentationColumn(description='Street address of the property.'), 'city': DocumentationColumn(description='City where the property is located.'), 'state': DocumentationColumn(description='State where the property is located.'), 'zip_code': DocumentationColumn(description=\"Postal code for the property's location.\"), 'square_feet': DocumentationColumn(description='Total area of the property in square feet.'), 'bedrooms': DocumentationColumn(description='Number of bedrooms in the property.'), 'bathrooms': DocumentationColumn(description='Number of bathrooms in the property, formatted to one decimal place.'), 'listing_price': DocumentationColumn(description='Initial asking price for the property when listed.'), 'sale_price': DocumentationColumn(description='Final sale price of the property upon sale completion.'), 'listing_date': DocumentationColumn(description='Date when the property was listed for sale.'), 'sale_date': DocumentationColumn(description='Date when the property was sold. If not sold, this field is NULL.'), 'status': DocumentationColumn(description=\"Current status of the property (e.g., 'Sold', 'Listed').\")}),\n",
       "  'intermediate_steps': [(AgentActionMessageLog(tool='table_schema_tool', tool_input={'table_name': 'house_pricing', 'run_manager': <langchain_core.callbacks.manager.CallbackManagerForToolRun object at 0x7f08c5ef7fd0>}, log=\"\\nInvoking: `table_schema_tool` with `{'table_name': 'house_pricing'}`\\n\\n\\n\", message_log=[AIMessage(content='', additional_kwargs={'function_call': {'arguments': '{\"table_name\":\"house_pricing\"}', 'name': 'table_schema_tool'}}, response_metadata={'finish_reason': 'function_call', 'model_name': 'gpt-4o-mini', 'system_fingerprint': 'fp_80a1bad4c7'}, id='run-bf584f2a-b544-4bf8-8a1c-1d3e89308c00-0')]),\n",
       "    '\\n\\nCREATE TABLE postgres.public.house_pricing (\\n   id integer NOT NULL,\\n   address varchar(255),\\n   city varchar(100),\\n   state varchar(100),\\n   zip_code varchar(20),\\n   square_feet integer,\\n   bedrooms integer,\\n   bathrooms decimal(2, 1),\\n   listing_price decimal(12, 2),\\n   sale_price decimal(12, 2),\\n   listing_date date,\\n   sale_date date,\\n   status varchar(50)\\n)\\n\\n\\n'),\n",
       "   (AgentActionMessageLog(tool='table_sample_rows_tool', tool_input={'table_name': 'house_pricing', 'run_manager': <langchain_core.callbacks.manager.CallbackManagerForToolRun object at 0x7f08c460bf70>}, log=\"\\nInvoking: `table_sample_rows_tool` with `{'table_name': 'house_pricing'}`\\n\\n\\n\", message_log=[AIMessage(content='', additional_kwargs={'function_call': {'arguments': '{\"table_name\":\"house_pricing\"}', 'name': 'table_sample_rows_tool'}}, response_metadata={'finish_reason': 'function_call', 'model_name': 'gpt-4o-mini', 'system_fingerprint': 'fp_80a1bad4c7'}, id='run-e0b45908-cc1a-4341-bbda-d1468e3ed639-0')]),\n",
       "    '\\n\\n\\n\\n Here is the 3 sample rows from house_pricing table:\\n\\nid, address, city, state, zip_code, square_feet, bedrooms, bathrooms, listing_price, sale_price, listing_date, sale_date, status\\n1, 123 Oak Street, Springfield, StateName, 12345, 2000, 3, 2.5, 300000.00, 295000.00, 2021-01-15, 2021-02-20, Sold\\n2, 456 Maple Avenue, Riverdale, StateName, 12346, 1500, 2, 1.0, 200000.00, 210000.00, 2021-03-01, 2021-04-10, Sold\\n3, 789 Pine Lane, Shelbyville, StateName, 12347, 1800, 4, 3.0, 250000.00, 240000.00, 2021-02-01, None, Listed\\n\\n')]},\n",
       " ([], None))"
      ]
     },
     "execution_count": 21,
     "metadata": {},
     "output_type": "execute_result"
    }
   ],
   "execution_count": 21
  },
  {
   "metadata": {},
   "cell_type": "markdown",
   "source": "## Show the comment in the database",
   "id": "595be95f77604c4e"
  },
  {
   "metadata": {
    "ExecuteTime": {
     "end_time": "2024-09-04T15:02:21.154618Z",
     "start_time": "2024-09-04T15:02:20.923625Z"
    }
   },
   "cell_type": "code",
   "source": [
    "cursor = dc.conn.cursor()\n",
    "cursor.execute(\n",
    "    f\"SHOW CREATE TABLE {ct.trino_catalog}.{ct.trino_schema}.{ct.trino_table}\")\n",
    "data = cursor.fetchall()\n",
    "description = cursor.description\n",
    "cursor.close()\n",
    "\n",
    "output = \"\\n\\n\"\n",
    "# Add column name\n",
    "\n",
    "for line in data:\n",
    "    output += \", \".join([str(c) for c in line])\n",
    "    output += \"\\n\"\n",
    "\n",
    "print(output)"
   ],
   "id": "f70eae0443851da8",
   "outputs": [
    {
     "name": "stdout",
     "output_type": "stream",
     "text": [
      "\n",
      "\n",
      "CREATE TABLE postgres.public.house_pricing (\n",
      "   id integer NOT NULL COMMENT 'Unique identifier for each property listing.',\n",
      "   address varchar(255) COMMENT 'Street address of the property.',\n",
      "   city varchar(100) COMMENT 'City where the property is located.',\n",
      "   state varchar(100) COMMENT 'State where the property is located.',\n",
      "   zip_code varchar(20) COMMENT 'Postal code for the property''s location.',\n",
      "   square_feet integer COMMENT 'Total area of the property in square feet.',\n",
      "   bedrooms integer COMMENT 'Number of bedrooms in the property.',\n",
      "   bathrooms decimal(2, 1) COMMENT 'Number of bathrooms in the property, formatted to one decimal place.',\n",
      "   listing_price decimal(12, 2) COMMENT 'Initial asking price for the property when listed.',\n",
      "   sale_price decimal(12, 2) COMMENT 'Final sale price of the property upon sale completion.',\n",
      "   listing_date date COMMENT 'Date when the property was listed for sale.',\n",
      "   sale_date date COMMENT 'Date when the property was sold. If not sold, this field is NULL.',\n",
      "   status varchar(50) COMMENT 'Current status of the property (e.g., ''Sold'', ''Listed'').'\n",
      ")\n",
      "COMMENT 'The house_pricing table contains detailed information about residential properties, including their pricing, characteristics, and status during the listing and sale process. This table is essential for analyzing housing market trends, pricing strategies, and property features.'\n",
      "\n"
     ]
    }
   ],
   "execution_count": 22
  },
  {
   "metadata": {
    "ExecuteTime": {
     "end_time": "2024-09-04T15:02:21.253847Z",
     "start_time": "2024-09-04T15:02:21.247488Z"
    }
   },
   "cell_type": "code",
   "source": "",
   "id": "d31bacfc7e5e5935",
   "outputs": [],
   "execution_count": null
  }
 ],
 "metadata": {
  "kernelspec": {
   "display_name": "Python 3",
   "language": "python",
   "name": "python3"
  },
  "language_info": {
   "codemirror_mode": {
    "name": "ipython",
    "version": 2
   },
   "file_extension": ".py",
   "mimetype": "text/x-python",
   "name": "python",
   "nbconvert_exporter": "python",
   "pygments_lexer": "ipython2",
   "version": "2.7.6"
  }
 },
 "nbformat": 4,
 "nbformat_minor": 5
}
