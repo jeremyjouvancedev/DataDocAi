{
 "cells": [
  {
   "cell_type": "code",
   "execution_count": null,
   "id": "69b741d48cdf8e69",
   "metadata": {
    "ExecuteTime": {
     "end_time": "2024-09-04T14:33:38.210592Z",
     "start_time": "2024-09-04T14:33:38.194005Z"
    }
   },
   "outputs": [],
   "source": [
    "from dotenv import load_dotenv\n",
    "\n",
    "env_loaded = load_dotenv('../../.env-local')\n",
    "env_loaded"
   ]
  },
  {
   "cell_type": "code",
   "execution_count": 2,
   "id": "16941812dd9e0341",
   "metadata": {
    "ExecuteTime": {
     "end_time": "2024-09-04T14:33:53.336811Z",
     "start_time": "2024-09-04T14:33:46.033596Z"
    }
   },
   "outputs": [],
   "source": [
    "from datadocai.models import CurrentTable\n",
    "\n",
    "TRINO_CATALOG = 'postgres'\n",
    "TRINO_SCHEMA = 'public'\n",
    "TRINO_TABLE = 'house_pricing'\n",
    "\n",
    "# construct the table you want to analyse\n",
    "ct = CurrentTable(trino_catalog=TRINO_CATALOG,\n",
    "                  trino_schema=TRINO_SCHEMA,\n",
    "                  trino_table=TRINO_TABLE)"
   ]
  },
  {
   "cell_type": "code",
   "execution_count": 3,
   "id": "7601d170b25cbeeb",
   "metadata": {
    "ExecuteTime": {
     "end_time": "2024-09-04T14:33:53.361268Z",
     "start_time": "2024-09-04T14:33:53.343265Z"
    }
   },
   "outputs": [],
   "source": [
    "import os\n",
    "from datadocai.database import DatabaseClient\n",
    "\n",
    "# connect to trino\n",
    "dc = DatabaseClient(host=os.getenv('TRINO_HOST'),\n",
    "                    port=os.getenv('TRINO_PORT'),\n",
    "                    user=os.getenv('TRINO_USER'),\n",
    "                    password=os.getenv('TRINO_PASSWORD'), \n",
    "                    certificate=\"../../docker/trino/certificate.pem\")"
   ]
  },
  {
   "cell_type": "markdown",
   "id": "4e2ca415",
   "metadata": {},
   "source": [
    "## Show the table informations"
   ]
  },
  {
   "cell_type": "code",
   "execution_count": null,
   "id": "02315d0e",
   "metadata": {},
   "outputs": [],
   "source": [
    "## Show the table informations\n",
    "cursor = dc.conn.cursor()\n",
    "cursor.execute(\n",
    "    f\"SHOW CREATE TABLE {ct.trino_catalog}.{ct.trino_schema}.{ct.trino_table}\")\n",
    "data = cursor.fetchall()\n",
    "description = cursor.description\n",
    "cursor.close()\n",
    "\n",
    "output = \"\\n\\n\"\n",
    "# Add column name\n",
    "\n",
    "for line in data:\n",
    "    output += \", \".join([str(c) for c in line])\n",
    "    output += \"\\n\"\n",
    "\n",
    "print(output)"
   ]
  },
  {
   "cell_type": "code",
   "execution_count": 5,
   "id": "8a7d57e4717c1e3e",
   "metadata": {},
   "outputs": [],
   "source": [
    "from langchain_openai import ChatOpenAI\n",
    "\n",
    "llm = ChatOpenAI(model='gpt-4o', verbose=True)"
   ]
  },
  {
   "cell_type": "code",
   "execution_count": 6,
   "id": "784fb9ac2d9ca05d",
   "metadata": {},
   "outputs": [],
   "source": [
    "from datadocai.metadata import TableMetadataManager\n",
    "from datadocai.metadata.exporter.trino import MetadataTrinoExporter\n",
    "\n",
    "metadata_exporter = MetadataTrinoExporter(current_table=ct, database_client=dc)\n",
    "\n",
    "tmm = TableMetadataManager(current_table=ct, database_client=dc, llm=llm, metadata_exporter=metadata_exporter)"
   ]
  },
  {
   "cell_type": "code",
   "execution_count": null,
   "id": "2b6767fff84df711",
   "metadata": {},
   "outputs": [],
   "source": [
    "# launch the process\n",
    "tmm.process()"
   ]
  }
 ],
 "metadata": {
  "kernelspec": {
   "display_name": "Python 3",
   "language": "python",
   "name": "python3"
  },
  "language_info": {
   "codemirror_mode": {
    "name": "ipython",
    "version": 3
   },
   "file_extension": ".py",
   "mimetype": "text/x-python",
   "name": "python",
   "nbconvert_exporter": "python",
   "pygments_lexer": "ipython3",
   "version": "3.10.12"
  }
 },
 "nbformat": 4,
 "nbformat_minor": 5
}
