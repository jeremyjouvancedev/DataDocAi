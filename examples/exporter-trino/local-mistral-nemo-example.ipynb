{
 "cells": [
  {
   "cell_type": "code",
   "execution_count": 1,
   "id": "initial_id",
   "metadata": {
    "ExecuteTime": {
     "end_time": "2024-09-06T15:21:56.465031Z",
     "start_time": "2024-09-06T15:21:56.451728Z"
    },
    "collapsed": true
   },
   "outputs": [],
   "source": [
    "from dotenv import load_dotenv"
   ]
  },
  {
   "cell_type": "code",
   "execution_count": 2,
   "id": "704b7a97c69eadcb",
   "metadata": {
    "ExecuteTime": {
     "end_time": "2024-09-06T15:21:56.646051Z",
     "start_time": "2024-09-06T15:21:56.634640Z"
    }
   },
   "outputs": [
    {
     "data": {
      "text/plain": [
       "True"
      ]
     },
     "execution_count": 2,
     "metadata": {},
     "output_type": "execute_result"
    }
   ],
   "source": [
    "env_loaded = load_dotenv('../../.env-local')\n",
    "env_loaded"
   ]
  },
  {
   "cell_type": "code",
   "execution_count": 3,
   "id": "304337dc2f1093a4",
   "metadata": {
    "ExecuteTime": {
     "end_time": "2024-09-06T15:22:03.255152Z",
     "start_time": "2024-09-06T15:21:56.958441Z"
    }
   },
   "outputs": [],
   "source": [
    "from datadocai.models import CurrentTable\n",
    "\n",
    "TRINO_CATALOG = 'postgres'\n",
    "TRINO_SCHEMA = 'public'\n",
    "TRINO_TABLE = 'house_pricing'\n",
    "\n",
    "# construct the table you want to analyse\n",
    "ct = CurrentTable(trino_catalog=TRINO_CATALOG,\n",
    "                  trino_schema=TRINO_SCHEMA,\n",
    "                  trino_table=TRINO_TABLE)"
   ]
  },
  {
   "cell_type": "code",
   "execution_count": 4,
   "id": "a12ed556fcc5e110",
   "metadata": {
    "ExecuteTime": {
     "end_time": "2024-09-06T15:22:03.284240Z",
     "start_time": "2024-09-06T15:22:03.264499Z"
    }
   },
   "outputs": [],
   "source": [
    "import os\n",
    "from datadocai.database import DatabaseClient\n",
    "\n",
    "# connect to trino\n",
    "dc = DatabaseClient(host=os.getenv('TRINO_HOST'),\n",
    "                    port=os.getenv('TRINO_PORT'),\n",
    "                    user=os.getenv('TRINO_USER'),\n",
    "                    password=os.getenv('TRINO_PASSWORD'),\n",
    "                    certificate=\"../../docker/trino/certificate.pem\")"
   ]
  },
  {
   "cell_type": "code",
   "execution_count": 5,
   "id": "31f841597391c236",
   "metadata": {
    "ExecuteTime": {
     "end_time": "2024-09-06T15:21:50.016426Z",
     "start_time": "2024-09-06T15:21:49.631513Z"
    }
   },
   "outputs": [],
   "source": [
    "from langchain_ollama import ChatOllama\n",
    "\n",
    "api_base = \"http://localhost:11434\"\n",
    "model = \"mistral-nemo:12b-instruct-2407-q4_0\"\n",
    "\n",
    "llm = ChatOllama(api_base=api_base, model=model, temperature = 0, verbose=True)\n",
    "output_llm = ChatOllama(api_base=api_base, model=model, format='json', temperature = 0, verbose=True)"
   ]
  },
  {
   "cell_type": "code",
   "execution_count": 6,
   "id": "e4c90b9aa711d42c",
   "metadata": {
    "ExecuteTime": {
     "end_time": "2024-09-06T15:21:50.670490317Z",
     "start_time": "2024-09-06T13:46:32.390080Z"
    }
   },
   "outputs": [],
   "source": [
    "from datadocai.metadata import TableMetadataManager\n",
    "from datadocai.metadata.exporter.trino import MetadataTrinoExporter\n",
    "\n",
    "metadata_exporter = MetadataTrinoExporter(current_table=ct, database_client=dc)\n",
    "\n",
    "tmm = TableMetadataManager(current_table=ct, database_client=dc, llm=llm, output_llm=output_llm, local_llm=True, metadata_exporter=metadata_exporter)"
   ]
  },
  {
   "cell_type": "code",
   "execution_count": 7,
   "id": "7bd2b4fbd6174d7e",
   "metadata": {
    "ExecuteTime": {
     "end_time": "2024-09-06T15:21:50.671630706Z",
     "start_time": "2024-09-06T13:46:33.634697Z"
    }
   },
   "outputs": [
    {
     "name": "stderr",
     "output_type": "stream",
     "text": [
      "/home/jeremy/projects/DataDocAi/DataDocAi/api/venv/lib/python3.10/site-packages/langsmith/client.py:312: LangSmithMissingAPIKeyWarning: API key must be provided when using hosted LangSmith API\n",
      "  warnings.warn(\n",
      "/home/jeremy/projects/DataDocAi/DataDocAi/api/venv/lib/python3.10/site-packages/langsmith/client.py:5515: LangChainBetaWarning: The function `loads` is in beta. It is actively being worked on, so the API may change.\n",
      "  prompt = loads(json.dumps(prompt_object.manifest))\n"
     ]
    },
    {
     "name": "stdout",
     "output_type": "stream",
     "text": [
      "postgres.public.house_pricing Set Table Documentation: The `house_pricing` table stores comprehensive data about real estate properties, including their prices, locations, features, and listing status. This information is valuable for market analysis, trend identification, property valuation, investment decisions, and other related purposes.\n",
      "postgres.public.house_pricing Set Documentation for column id: description='A unique identifier assigned to each record in the table. It serves as a primary key for indexing and referencing purposes.'\n",
      "postgres.public.house_pricing Set Documentation for column address: description='The street address of the house.'\n",
      "postgres.public.house_pricing Set Documentation for column city: description='The city where the house is located.'\n",
      "postgres.public.house_pricing Set Documentation for column state: description='The state abbreviation where the house is located (e.g., CA, NY).'\n",
      "postgres.public.house_pricing Set Documentation for column zip_code: description=\"The ZIP code of the house's location.\"\n",
      "postgres.public.house_pricing Set Documentation for column square_feet: description='The total square footage of the house. Larger homes generally command higher prices.'\n",
      "postgres.public.house_pricing Set Documentation for column bedrooms: description='The number of bedrooms in the house. Bedroom count significantly influences house pricing, with more bedrooms generally commanding higher prices.'\n",
      "postgres.public.house_pricing Set Documentation for column bathrooms: description='The number of bathrooms (full and half) in the house. Bathroom count also affects house price, with additional bathrooms often increasing property value.'\n",
      "postgres.public.house_pricing Set Documentation for column listing_price: description='The initial price at which the house is listed for sale.'\n",
      "postgres.public.house_pricing Set Documentation for column sale_price: description='The final sale price of the house. If the house is not yet sold, this field may be null.'\n",
      "postgres.public.house_pricing Set Documentation for column listing_date: description='The date when the house was listed for sale.'\n",
      "postgres.public.house_pricing Set Documentation for column sale_date: description='The date when the house was sold. This field can be null if the house has not been sold yet.'\n",
      "postgres.public.house_pricing Set Documentation for column status: description='The current status of the house listing (e.g., Sold, Listed, etc.).'\n"
     ]
    }
   ],
   "source": [
    "# launch the process\n",
    "result, exporter_result = tmm.process()"
   ]
  },
  {
   "cell_type": "markdown",
   "id": "1d6026ef",
   "metadata": {},
   "source": [
    "## Show if the description is set"
   ]
  },
  {
   "cell_type": "code",
   "execution_count": 9,
   "id": "ccec3f8a5cb3b960",
   "metadata": {},
   "outputs": [
    {
     "name": "stdout",
     "output_type": "stream",
     "text": [
      "\n",
      "\n",
      "CREATE TABLE postgres.public.house_pricing (\n",
      "   id integer NOT NULL COMMENT 'A unique identifier assigned to each record in the table. It serves as a primary key for indexing and referencing purposes.',\n",
      "   address varchar(255) COMMENT 'The street address of the house.',\n",
      "   city varchar(100) COMMENT 'The city where the house is located.',\n",
      "   state varchar(100) COMMENT 'The state abbreviation where the house is located (e.g., CA, NY).',\n",
      "   zip_code varchar(20) COMMENT 'The ZIP code of the house''s location.',\n",
      "   square_feet integer COMMENT 'The total square footage of the house. Larger homes generally command higher prices.',\n",
      "   bedrooms integer COMMENT 'The number of bedrooms in the house. Bedroom count significantly influences house pricing, with more bedrooms generally commanding higher prices.',\n",
      "   bathrooms decimal(2, 1) COMMENT 'The number of bathrooms (full and half) in the house. Bathroom count also affects house price, with additional bathrooms often increasing property value.',\n",
      "   listing_price decimal(12, 2) COMMENT 'The initial price at which the house is listed for sale.',\n",
      "   sale_price decimal(12, 2) COMMENT 'The final sale price of the house. If the house is not yet sold, this field may be null.',\n",
      "   listing_date date COMMENT 'The date when the house was listed for sale.',\n",
      "   sale_date date COMMENT 'The date when the house was sold. This field can be null if the house has not been sold yet.',\n",
      "   status varchar(50) COMMENT 'The current status of the house listing (e.g., Sold, Listed, etc.).'\n",
      ")\n",
      "COMMENT 'The `house_pricing` table stores comprehensive data about real estate properties, including their prices, locations, features, and listing status. This information is valuable for market analysis, trend identification, property valuation, investment decisions, and other related purposes.'\n",
      "\n"
     ]
    }
   ],
   "source": [
    "## Show the table informations\n",
    "cursor = dc.conn.cursor()\n",
    "cursor.execute(\n",
    "    f\"SHOW CREATE TABLE {ct.trino_catalog}.{ct.trino_schema}.{ct.trino_table}\")\n",
    "data = cursor.fetchall()\n",
    "description = cursor.description\n",
    "cursor.close()\n",
    "\n",
    "output = \"\\n\\n\"\n",
    "# Add column name\n",
    "\n",
    "for line in data:\n",
    "    output += \", \".join([str(c) for c in line])\n",
    "    output += \"\\n\"\n",
    "\n",
    "print(output)"
   ]
  }
 ],
 "metadata": {
  "kernelspec": {
   "display_name": "Python 3",
   "language": "python",
   "name": "python3"
  },
  "language_info": {
   "codemirror_mode": {
    "name": "ipython",
    "version": 3
   },
   "file_extension": ".py",
   "mimetype": "text/x-python",
   "name": "python",
   "nbconvert_exporter": "python",
   "pygments_lexer": "ipython3",
   "version": "3.10.12"
  }
 },
 "nbformat": 4,
 "nbformat_minor": 5
}
