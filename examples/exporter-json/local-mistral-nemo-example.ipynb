{
 "cells": [
  {
   "cell_type": "code",
   "execution_count": 1,
   "id": "initial_id",
   "metadata": {
    "ExecuteTime": {
     "end_time": "2024-09-06T15:21:56.465031Z",
     "start_time": "2024-09-06T15:21:56.451728Z"
    },
    "collapsed": true
   },
   "outputs": [],
   "source": [
    "from dotenv import load_dotenv"
   ]
  },
  {
   "cell_type": "code",
   "execution_count": 2,
   "id": "704b7a97c69eadcb",
   "metadata": {
    "ExecuteTime": {
     "end_time": "2024-09-06T15:21:56.646051Z",
     "start_time": "2024-09-06T15:21:56.634640Z"
    }
   },
   "outputs": [
    {
     "data": {
      "text/plain": [
       "True"
      ]
     },
     "execution_count": 2,
     "metadata": {},
     "output_type": "execute_result"
    }
   ],
   "source": [
    "env_loaded = load_dotenv('../../.env-local')\n",
    "env_loaded"
   ]
  },
  {
   "cell_type": "code",
   "execution_count": 3,
   "id": "304337dc2f1093a4",
   "metadata": {
    "ExecuteTime": {
     "end_time": "2024-09-06T15:22:03.255152Z",
     "start_time": "2024-09-06T15:21:56.958441Z"
    }
   },
   "outputs": [],
   "source": [
    "from datadocai.models import CurrentTable\n",
    "\n",
    "TRINO_CATALOG = 'postgres'\n",
    "TRINO_SCHEMA = 'public'\n",
    "TRINO_TABLE = 'house_pricing'\n",
    "\n",
    "# construct the table you want to analyse\n",
    "ct = CurrentTable(trino_catalog=TRINO_CATALOG,\n",
    "                  trino_schema=TRINO_SCHEMA,\n",
    "                  trino_table=TRINO_TABLE)"
   ]
  },
  {
   "cell_type": "code",
   "execution_count": 4,
   "id": "a12ed556fcc5e110",
   "metadata": {
    "ExecuteTime": {
     "end_time": "2024-09-06T15:22:03.284240Z",
     "start_time": "2024-09-06T15:22:03.264499Z"
    }
   },
   "outputs": [
    {
     "name": "stdout",
     "output_type": "stream",
     "text": [
      "LOCAL connection\n"
     ]
    }
   ],
   "source": [
    "import os\n",
    "from datadocai.database import DatabaseClient\n",
    "\n",
    "# connect to trino\n",
    "dc = DatabaseClient(host=os.getenv('TRINO_HOST'),\n",
    "                    port=os.getenv('TRINO_PORT'),\n",
    "                    user=os.getenv('TRINO_USER'),\n",
    "                    password=os.getenv('TRINO_PASSWORD'))"
   ]
  },
  {
   "cell_type": "code",
   "execution_count": 14,
   "id": "31f841597391c236",
   "metadata": {
    "ExecuteTime": {
     "end_time": "2024-09-06T15:21:50.016426Z",
     "start_time": "2024-09-06T15:21:49.631513Z"
    }
   },
   "outputs": [],
   "source": [
    "from langchain_ollama import ChatOllama\n",
    "\n",
    "api_base = \"http://localhost:11434\"\n",
    "model = \"mistral-nemo:12b-instruct-2407-q4_0\"\n",
    "\n",
    "llm = ChatOllama(api_base=api_base, model=model, temperature = 0, verbose=True)\n",
    "output_llm = ChatOllama(api_base=api_base, model=model, format='json', temperature = 0, verbose=True)"
   ]
  },
  {
   "cell_type": "code",
   "execution_count": 15,
   "id": "e4c90b9aa711d42c",
   "metadata": {
    "ExecuteTime": {
     "end_time": "2024-09-06T15:21:50.670490317Z",
     "start_time": "2024-09-06T13:46:32.390080Z"
    }
   },
   "outputs": [
    {
     "name": "stdout",
     "output_type": "stream",
     "text": [
      "[Errno 17] File exists: 'outputs/postgres/public'\n"
     ]
    }
   ],
   "source": [
    "from datadocai.metadata import TableMetadataManager\n",
    "from datadocai.metadata.exporter.json import MetadataJsonExporter\n",
    "\n",
    "metadata_exporter = MetadataJsonExporter(current_table=ct)\n",
    "\n",
    "tmm = TableMetadataManager(current_table=ct, database_client=dc, llm=llm, metadata_exporter=metadata_exporter)"
   ]
  },
  {
   "cell_type": "code",
   "execution_count": 16,
   "id": "7bd2b4fbd6174d7e",
   "metadata": {
    "ExecuteTime": {
     "end_time": "2024-09-06T15:21:50.671630706Z",
     "start_time": "2024-09-06T13:46:33.634697Z"
    }
   },
   "outputs": [
    {
     "data": {
      "text/plain": [
       "({'input': 'Create a documentation for the table: house_pricing',\n",
       "  'chat_history': [],\n",
       "  'agent_outcome': DocumentationTable(description='The house_pricing table stores comprehensive information about houses listed for sale. Each record represents a unique house identified by its primary key (id). The table captures various attributes such as address, city, state, ZIP code, square footage, number of bedrooms and bathrooms, year built, listing price, current status, and date listed. This data is useful for analyzing housing market trends, comparing properties, and identifying potential investment opportunities.', columns={'id': DocumentationColumn(description='Unique identifier for each record in the table.'), 'address': DocumentationColumn(description='The street address of the house.'), 'city': DocumentationColumn(description='The city where the house is located.'), 'state': DocumentationColumn(description='The state where the house is located (using two-letter abbreviations).'), 'zip_code': DocumentationColumn(description=\"The ZIP code of the house's location.\"), 'square_footage': DocumentationColumn(description='The total square footage of the house, including all levels.'), 'bedrooms': DocumentationColumn(description='The number of bedrooms in the house.'), 'bathrooms': DocumentationColumn(description='The number of bathrooms in the house. Allows for fractional values to account for half or three-quarter baths.'), 'year_built': DocumentationColumn(description='The year the house was originally constructed.'), 'price': DocumentationColumn(description='The listing price of the house in USD.'), 'status': DocumentationColumn(description='The current listing status of the house.'), 'date_listed': DocumentationColumn(description='The date when the house was first listed for sale.')}),\n",
       "  'intermediate_steps': []},\n",
       " '{\"description\":\"The house_pricing table stores comprehensive information about houses listed for sale. Each record represents a unique house identified by its primary key (id). The table captures various attributes such as address, city, state, ZIP code, square footage, number of bedrooms and bathrooms, year built, listing price, current status, and date listed. This data is useful for analyzing housing market trends, comparing properties, and identifying potential investment opportunities.\",\"columns\":{\"id\":{\"description\":\"Unique identifier for each record in the table.\"},\"address\":{\"description\":\"The street address of the house.\"},\"city\":{\"description\":\"The city where the house is located.\"},\"state\":{\"description\":\"The state where the house is located (using two-letter abbreviations).\"},\"zip_code\":{\"description\":\"The ZIP code of the house\\'s location.\"},\"square_footage\":{\"description\":\"The total square footage of the house, including all levels.\"},\"bedrooms\":{\"description\":\"The number of bedrooms in the house.\"},\"bathrooms\":{\"description\":\"The number of bathrooms in the house. Allows for fractional values to account for half or three-quarter baths.\"},\"year_built\":{\"description\":\"The year the house was originally constructed.\"},\"price\":{\"description\":\"The listing price of the house in USD.\"},\"status\":{\"description\":\"The current listing status of the house.\"},\"date_listed\":{\"description\":\"The date when the house was first listed for sale.\"}}}')"
      ]
     },
     "execution_count": 16,
     "metadata": {},
     "output_type": "execute_result"
    }
   ],
   "source": [
    "# launch the process\n",
    "tmm.process()"
   ]
  },
  {
   "cell_type": "code",
   "execution_count": null,
   "id": "ccec3f8a5cb3b960",
   "metadata": {},
   "outputs": [],
   "source": []
  }
 ],
 "metadata": {
  "kernelspec": {
   "display_name": "Python 3",
   "language": "python",
   "name": "python3"
  },
  "language_info": {
   "codemirror_mode": {
    "name": "ipython",
    "version": 3
   },
   "file_extension": ".py",
   "mimetype": "text/x-python",
   "name": "python",
   "nbconvert_exporter": "python",
   "pygments_lexer": "ipython3",
   "version": "3.10.12"
  }
 },
 "nbformat": 4,
 "nbformat_minor": 5
}
