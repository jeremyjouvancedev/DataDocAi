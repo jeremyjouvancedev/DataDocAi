{
 "cells": [
  {
   "cell_type": "code",
   "execution_count": 1,
   "id": "initial_id",
   "metadata": {
    "ExecuteTime": {
     "end_time": "2024-09-04T14:33:33.041214Z",
     "start_time": "2024-09-04T14:33:33.028924Z"
    },
    "collapsed": true
   },
   "outputs": [],
   "source": [
    "from dotenv import load_dotenv"
   ]
  },
  {
   "cell_type": "code",
   "execution_count": 2,
   "id": "69b741d48cdf8e69",
   "metadata": {
    "ExecuteTime": {
     "end_time": "2024-09-04T14:33:38.210592Z",
     "start_time": "2024-09-04T14:33:38.194005Z"
    }
   },
   "outputs": [
    {
     "data": {
      "text/plain": [
       "True"
      ]
     },
     "execution_count": 2,
     "metadata": {},
     "output_type": "execute_result"
    }
   ],
   "source": [
    "env_loaded = load_dotenv('../../.env-local')\n",
    "env_loaded"
   ]
  },
  {
   "cell_type": "code",
   "execution_count": 3,
   "id": "16941812dd9e0341",
   "metadata": {
    "ExecuteTime": {
     "end_time": "2024-09-04T14:33:53.336811Z",
     "start_time": "2024-09-04T14:33:46.033596Z"
    }
   },
   "outputs": [
    {
     "name": "stderr",
     "output_type": "stream",
     "text": [
      "/home/jouvance/projects/DataDocAi/api/venv/lib/python3.10/site-packages/pydantic/_internal/_config.py:341: UserWarning: Valid config keys have changed in V2:\n",
      "* 'allow_population_by_field_name' has been renamed to 'populate_by_name'\n",
      "* 'smart_union' has been removed\n",
      "  warnings.warn(message, UserWarning)\n"
     ]
    }
   ],
   "source": [
    "from datadocai.models import CurrentTable\n",
    "\n",
    "TRINO_CATALOG = 'postgres'\n",
    "TRINO_SCHEMA = 'public'\n",
    "TRINO_TABLE = 'house_pricing'\n",
    "\n",
    "# construct the table you want to analyse\n",
    "ct = CurrentTable(trino_catalog=TRINO_CATALOG,\n",
    "                  trino_schema=TRINO_SCHEMA,\n",
    "                  trino_table=TRINO_TABLE)"
   ]
  },
  {
   "cell_type": "code",
   "execution_count": 4,
   "id": "7601d170b25cbeeb",
   "metadata": {
    "ExecuteTime": {
     "end_time": "2024-09-04T14:33:53.361268Z",
     "start_time": "2024-09-04T14:33:53.343265Z"
    }
   },
   "outputs": [
    {
     "name": "stdout",
     "output_type": "stream",
     "text": [
      "LOCAL connection\n"
     ]
    }
   ],
   "source": [
    "import os\n",
    "from datadocai.database import DatabaseClient\n",
    "\n",
    "# connect to trino\n",
    "dc = DatabaseClient(host=os.getenv('TRINO_HOST'),\n",
    "                    port=os.getenv('TRINO_PORT'),\n",
    "                    user=os.getenv('TRINO_USER'),\n",
    "                    password=os.getenv('TRINO_PASSWORD'))"
   ]
  },
  {
   "cell_type": "code",
   "execution_count": null,
   "id": "8a7d57e4717c1e3e",
   "metadata": {},
   "outputs": [],
   "source": [
    "from langchain_openai import ChatOpenAI\n",
    "\n",
    "llm = ChatOpenAI(model='gpt-4o')"
   ]
  },
  {
   "cell_type": "code",
   "execution_count": null,
   "id": "784fb9ac2d9ca05d",
   "metadata": {},
   "outputs": [],
   "source": [
    "from datadocai.metadata import TableMetadataManager\n",
    "from datadocai.metadata.exporter.json import MetadataJsonExporter\n",
    "\n",
    "metadata_exporter = MetadataJsonExporter(current_table=ct)\n",
    "\n",
    "tmm = TableMetadataManager(current_table=ct, database_client=dc, llm=llm, metadata_exporter=metadata_exporter)"
   ]
  },
  {
   "cell_type": "code",
   "execution_count": null,
   "id": "2b6767fff84df711",
   "metadata": {},
   "outputs": [],
   "source": [
    "# launch the process\n",
    "tmm.process()"
   ]
  }
 ],
 "metadata": {
  "kernelspec": {
   "display_name": "Python 3",
   "language": "python",
   "name": "python3"
  },
  "language_info": {
   "codemirror_mode": {
    "name": "ipython",
    "version": 2
   },
   "file_extension": ".py",
   "mimetype": "text/x-python",
   "name": "python",
   "nbconvert_exporter": "python",
   "pygments_lexer": "ipython2",
   "version": "2.7.6"
  }
 },
 "nbformat": 4,
 "nbformat_minor": 5
}
