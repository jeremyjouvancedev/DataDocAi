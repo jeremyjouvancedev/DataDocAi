{
 "cells": [
  {
   "metadata": {
    "ExecuteTime": {
     "end_time": "2024-09-04T14:31:17.340802Z",
     "start_time": "2024-09-04T14:31:17.307578Z"
    }
   },
   "cell_type": "code",
   "source": [
    "import logging, urllib3\n",
    "\n",
    "# Suppress all urllib3 warnings and errors\n",
    "logging.getLogger(\"urllib3\").setLevel(logging.CRITICAL)\n",
    "\n",
    "# Also, disable specific SSL warnings if using insecure connections\n",
    "urllib3.disable_warnings(urllib3.exceptions.InsecureRequestWarning)"
   ],
   "id": "d167faf0aec9884c",
   "outputs": [],
   "execution_count": 1
  },
  {
   "metadata": {
    "collapsed": true,
    "ExecuteTime": {
     "end_time": "2024-09-04T14:31:17.376821Z",
     "start_time": "2024-09-04T14:31:17.366946Z"
    }
   },
   "cell_type": "code",
   "source": "from dotenv import load_dotenv",
   "id": "initial_id",
   "outputs": [],
   "execution_count": 2
  },
  {
   "metadata": {
    "ExecuteTime": {
     "end_time": "2024-09-04T14:31:17.556173Z",
     "start_time": "2024-09-04T14:31:17.547588Z"
    }
   },
   "cell_type": "code",
   "source": [
    "env_loaded = load_dotenv('../../.env-local')\n",
    "env_loaded"
   ],
   "id": "5ef857ad54240335",
   "outputs": [
    {
     "data": {
      "text/plain": [
       "True"
      ]
     },
     "execution_count": 3,
     "metadata": {},
     "output_type": "execute_result"
    }
   ],
   "execution_count": 3
  },
  {
   "metadata": {
    "ExecuteTime": {
     "end_time": "2024-09-04T14:31:24.125125Z",
     "start_time": "2024-09-04T14:31:17.611253Z"
    }
   },
   "cell_type": "code",
   "source": [
    "from datadocai.models import CurrentTable\n",
    "\n",
    "TRINO_CATALOG = 'postgres'\n",
    "TRINO_SCHEMA = 'public'\n",
    "TRINO_TABLE = 'house_pricing'\n",
    "\n",
    "# construct the table you want to analyse\n",
    "ct = CurrentTable(trino_catalog=TRINO_CATALOG,\n",
    "                  trino_schema=TRINO_SCHEMA,\n",
    "                  trino_table=TRINO_TABLE)"
   ],
   "id": "1d464f6668ab2073",
   "outputs": [
    {
     "name": "stderr",
     "output_type": "stream",
     "text": [
      "/home/jouvance/projects/DataDocAi/api/venv/lib/python3.10/site-packages/pydantic/_internal/_config.py:341: UserWarning: Valid config keys have changed in V2:\n",
      "* 'allow_population_by_field_name' has been renamed to 'populate_by_name'\n",
      "* 'smart_union' has been removed\n",
      "  warnings.warn(message, UserWarning)\n"
     ]
    }
   ],
   "execution_count": 4
  },
  {
   "metadata": {
    "ExecuteTime": {
     "end_time": "2024-09-04T14:31:24.155817Z",
     "start_time": "2024-09-04T14:31:24.136549Z"
    }
   },
   "cell_type": "code",
   "source": [
    "import os\n",
    "from datadocai.database import DatabaseClient\n",
    "\n",
    "# connect to trino\n",
    "dc = DatabaseClient(host=os.getenv('TRINO_HOST'),\n",
    "                    port=os.getenv('TRINO_PORT'),\n",
    "                    user=os.getenv('TRINO_USER'),\n",
    "                    password=os.getenv('TRINO_PASSWORD'))"
   ],
   "id": "143d3061e4a516dd",
   "outputs": [
    {
     "name": "stdout",
     "output_type": "stream",
     "text": [
      "LOCAL connection\n"
     ]
    }
   ],
   "execution_count": 5
  },
  {
   "metadata": {
    "ExecuteTime": {
     "end_time": "2024-09-04T14:31:24.288721Z",
     "start_time": "2024-09-04T14:31:24.200782Z"
    }
   },
   "cell_type": "code",
   "source": [
    "from langchain_openai.chat_models import AzureChatOpenAI\n",
    "from httpx import Client\n",
    "\n",
    "llm = AzureChatOpenAI(\n",
    "    deployment_name=\"gpt-4o-mini\",\n",
    "    openai_api_version=\"2024-05-01-preview\",\n",
    "    streaming=True,\n",
    "    verbose=True,\n",
    "    http_client=Client(verify=False)\n",
    ")"
   ],
   "id": "2838c68048c5a531",
   "outputs": [],
   "execution_count": 6
  },
  {
   "metadata": {
    "ExecuteTime": {
     "end_time": "2024-09-04T14:31:24.369448Z",
     "start_time": "2024-09-04T14:31:24.303112Z"
    }
   },
   "cell_type": "code",
   "source": [
    "from datadocai.metadata import TableMetadataManager\n",
    "\n",
    "tmm = TableMetadataManager(current_table=ct, database_client=dc, llm=llm)"
   ],
   "id": "cf42fdf24b173183",
   "outputs": [],
   "execution_count": 7
  },
  {
   "metadata": {
    "ExecuteTime": {
     "end_time": "2024-09-04T14:31:39.098146Z",
     "start_time": "2024-09-04T14:31:24.381628Z"
    }
   },
   "cell_type": "code",
   "source": [
    "# launch the process\n",
    "tmm.process()"
   ],
   "id": "b6b80e260d63aa54",
   "outputs": [
    {
     "data": {
      "text/plain": [
       "({'input': 'Create a documentation for the table: house_pricing',\n",
       "  'chat_history': [],\n",
       "  'agent_outcome': DocumentationTable(description='The house_pricing table contains information about residential properties, including their attributes, listing prices, sale prices, and status updates. This table is essential for real estate analysis, helping to track property listings, sales, and market trends.', columns={'id': DocumentationColumn(description='Unique identifier for each property listing.'), 'address': DocumentationColumn(description='The street address of the property.'), 'city': DocumentationColumn(description='The city where the property is located.'), 'state': DocumentationColumn(description='The state where the property is located.'), 'zip_code': DocumentationColumn(description=\"The ZIP code for the property's location.\"), 'square_feet': DocumentationColumn(description='The total area of the property in square feet.'), 'bedrooms': DocumentationColumn(description='The number of bedrooms in the property.'), 'bathrooms': DocumentationColumn(description='The number of bathrooms in the property, allowing for one decimal place (e.g., 2.5 bathrooms).'), 'listing_price': DocumentationColumn(description='The price at which the property is listed for sale.'), 'sale_price': DocumentationColumn(description='The price at which the property is sold, may be NULL if not sold yet.'), 'listing_date': DocumentationColumn(description='The date when the property was listed for sale.'), 'sale_date': DocumentationColumn(description='The date when the property was sold, may be NULL if not sold yet.'), 'status': DocumentationColumn(description=\"The current status of the property (e.g., 'Sold', 'Listed').\")}),\n",
       "  'intermediate_steps': [(AgentActionMessageLog(tool='table_schema_tool', tool_input={'table_name': 'house_pricing', 'run_manager': <langchain_core.callbacks.manager.CallbackManagerForToolRun object at 0x7f3794467ac0>}, log=\"\\nInvoking: `table_schema_tool` with `{'table_name': 'house_pricing'}`\\n\\n\\n\", message_log=[AIMessage(content='', additional_kwargs={'function_call': {'arguments': '{\"table_name\":\"house_pricing\"}', 'name': 'table_schema_tool'}}, response_metadata={'finish_reason': 'function_call', 'model_name': 'gpt-4o-mini', 'system_fingerprint': 'fp_80a1bad4c7'}, id='run-2c49ced0-3292-4e72-b262-54f58318b111-0')]),\n",
       "    '\\n\\nCREATE TABLE postgres.public.house_pricing (\\n   id integer NOT NULL,\\n   address varchar(255),\\n   city varchar(100),\\n   state varchar(100),\\n   zip_code varchar(20),\\n   square_feet integer,\\n   bedrooms integer,\\n   bathrooms decimal(2, 1),\\n   listing_price decimal(12, 2),\\n   sale_price decimal(12, 2),\\n   listing_date date,\\n   sale_date date,\\n   status varchar(50)\\n)\\n\\n\\n'),\n",
       "   (AgentActionMessageLog(tool='table_sample_rows_tool', tool_input={'table_name': 'house_pricing', 'run_manager': <langchain_core.callbacks.manager.CallbackManagerForToolRun object at 0x7f378aebd5a0>}, log=\"\\nInvoking: `table_sample_rows_tool` with `{'table_name': 'house_pricing'}`\\n\\n\\n\", message_log=[AIMessage(content='', additional_kwargs={'function_call': {'arguments': '{\"table_name\":\"house_pricing\"}', 'name': 'table_sample_rows_tool'}}, response_metadata={'finish_reason': 'function_call', 'model_name': 'gpt-4o-mini', 'system_fingerprint': 'fp_80a1bad4c7'}, id='run-c274dc1b-c584-4d3e-a63c-73e09a501aa6-0')]),\n",
       "    '\\n\\n\\n\\n Here is the 3 sample rows from house_pricing table:\\n\\nid, address, city, state, zip_code, square_feet, bedrooms, bathrooms, listing_price, sale_price, listing_date, sale_date, status\\n1, 123 Oak Street, Springfield, StateName, 12345, 2000, 3, 2.5, 300000.00, 295000.00, 2021-01-15, 2021-02-20, Sold\\n2, 456 Maple Avenue, Riverdale, StateName, 12346, 1500, 2, 1.0, 200000.00, 210000.00, 2021-03-01, 2021-04-10, Sold\\n3, 789 Pine Lane, Shelbyville, StateName, 12347, 1800, 4, 3.0, 250000.00, 240000.00, 2021-02-01, None, Listed\\n\\n')]},\n",
       " '{\"description\":\"The house_pricing table contains information about residential properties, including their attributes, listing prices, sale prices, and status updates. This table is essential for real estate analysis, helping to track property listings, sales, and market trends.\",\"columns\":{\"id\":{\"description\":\"Unique identifier for each property listing.\"},\"address\":{\"description\":\"The street address of the property.\"},\"city\":{\"description\":\"The city where the property is located.\"},\"state\":{\"description\":\"The state where the property is located.\"},\"zip_code\":{\"description\":\"The ZIP code for the property\\'s location.\"},\"square_feet\":{\"description\":\"The total area of the property in square feet.\"},\"bedrooms\":{\"description\":\"The number of bedrooms in the property.\"},\"bathrooms\":{\"description\":\"The number of bathrooms in the property, allowing for one decimal place (e.g., 2.5 bathrooms).\"},\"listing_price\":{\"description\":\"The price at which the property is listed for sale.\"},\"sale_price\":{\"description\":\"The price at which the property is sold, may be NULL if not sold yet.\"},\"listing_date\":{\"description\":\"The date when the property was listed for sale.\"},\"sale_date\":{\"description\":\"The date when the property was sold, may be NULL if not sold yet.\"},\"status\":{\"description\":\"The current status of the property (e.g., \\'Sold\\', \\'Listed\\').\"}}}')"
      ]
     },
     "execution_count": 8,
     "metadata": {},
     "output_type": "execute_result"
    }
   ],
   "execution_count": 8
  },
  {
   "metadata": {
    "ExecuteTime": {
     "end_time": "2024-09-04T14:31:39.186233Z",
     "start_time": "2024-09-04T14:31:39.180170Z"
    }
   },
   "cell_type": "code",
   "source": "",
   "id": "5b35225b40b22f79",
   "outputs": [],
   "execution_count": null
  }
 ],
 "metadata": {
  "kernelspec": {
   "display_name": "Python 3",
   "language": "python",
   "name": "python3"
  },
  "language_info": {
   "codemirror_mode": {
    "name": "ipython",
    "version": 2
   },
   "file_extension": ".py",
   "mimetype": "text/x-python",
   "name": "python",
   "nbconvert_exporter": "python",
   "pygments_lexer": "ipython2",
   "version": "2.7.6"
  }
 },
 "nbformat": 4,
 "nbformat_minor": 5
}
