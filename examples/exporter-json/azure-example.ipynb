{
 "cells": [
  {
   "metadata": {
    "ExecuteTime": {
     "end_time": "2024-09-06T09:49:26.995475Z",
     "start_time": "2024-09-06T09:49:26.973697Z"
    }
   },
   "cell_type": "code",
   "source": [
    "import logging, urllib3\n",
    "\n",
    "# Suppress all urllib3 warnings and errors\n",
    "#logging.getLogger(\"urllib3\").setLevel(logging.CRITICAL)\n",
    "\n",
    "# Also, disable specific SSL warnings if using insecure connections\n",
    "#urllib3.disable_warnings(urllib3.exceptions.InsecureRequestWarning)"
   ],
   "id": "d167faf0aec9884c",
   "outputs": [],
   "execution_count": 1
  },
  {
   "metadata": {
    "collapsed": true,
    "ExecuteTime": {
     "end_time": "2024-09-06T09:49:27.028905Z",
     "start_time": "2024-09-06T09:49:27.021659Z"
    }
   },
   "cell_type": "code",
   "source": "from dotenv import load_dotenv",
   "id": "initial_id",
   "outputs": [],
   "execution_count": 2
  },
  {
   "metadata": {
    "ExecuteTime": {
     "end_time": "2024-09-06T09:49:27.116333Z",
     "start_time": "2024-09-06T09:49:27.109444Z"
    }
   },
   "cell_type": "code",
   "source": [
    "env_loaded = load_dotenv('../../.env-local')\n",
    "env_loaded"
   ],
   "id": "5ef857ad54240335",
   "outputs": [
    {
     "data": {
      "text/plain": [
       "True"
      ]
     },
     "execution_count": 3,
     "metadata": {},
     "output_type": "execute_result"
    }
   ],
   "execution_count": 3
  },
  {
   "metadata": {
    "ExecuteTime": {
     "end_time": "2024-09-06T09:49:31.662152Z",
     "start_time": "2024-09-06T09:49:27.197791Z"
    }
   },
   "cell_type": "code",
   "source": [
    "from datadocai.models import CurrentTable\n",
    "\n",
    "TRINO_CATALOG = 'postgres'\n",
    "TRINO_SCHEMA = 'public'\n",
    "TRINO_TABLE = 'house_pricing'\n",
    "\n",
    "# construct the table you want to analyse\n",
    "ct = CurrentTable(trino_catalog=TRINO_CATALOG,\n",
    "                  trino_schema=TRINO_SCHEMA,\n",
    "                  trino_table=TRINO_TABLE)"
   ],
   "id": "1d464f6668ab2073",
   "outputs": [
    {
     "name": "stderr",
     "output_type": "stream",
     "text": [
      "/home/jouvance/projects/DataDocAi/api/venv/lib/python3.10/site-packages/pydantic/_internal/_config.py:341: UserWarning: Valid config keys have changed in V2:\n",
      "* 'allow_population_by_field_name' has been renamed to 'populate_by_name'\n",
      "* 'smart_union' has been removed\n",
      "  warnings.warn(message, UserWarning)\n"
     ]
    }
   ],
   "execution_count": 4
  },
  {
   "metadata": {
    "ExecuteTime": {
     "end_time": "2024-09-06T09:49:31.683883Z",
     "start_time": "2024-09-06T09:49:31.669232Z"
    }
   },
   "cell_type": "code",
   "source": [
    "import os\n",
    "from datadocai.database import DatabaseClient\n",
    "\n",
    "# connect to trino\n",
    "dc = DatabaseClient(host=os.getenv('TRINO_HOST'),\n",
    "                    port=os.getenv('TRINO_PORT'),\n",
    "                    user=os.getenv('TRINO_USER'),\n",
    "                    password=os.getenv('TRINO_PASSWORD'))"
   ],
   "id": "143d3061e4a516dd",
   "outputs": [
    {
     "name": "stdout",
     "output_type": "stream",
     "text": [
      "LOCAL connection\n"
     ]
    }
   ],
   "execution_count": 5
  },
  {
   "metadata": {
    "ExecuteTime": {
     "end_time": "2024-09-06T09:49:31.881790Z",
     "start_time": "2024-09-06T09:49:31.720485Z"
    }
   },
   "cell_type": "code",
   "source": [
    "from langchain_openai.chat_models import AzureChatOpenAI\n",
    "from httpx import Client\n",
    "\n",
    "llm = AzureChatOpenAI(\n",
    "    deployment_name=\"gpt-4o\",\n",
    "    openai_api_version=\"2024-05-01-preview\",\n",
    "    streaming=True,\n",
    "    verbose=True,\n",
    "    http_client=Client(verify=False)\n",
    ")"
   ],
   "id": "2838c68048c5a531",
   "outputs": [],
   "execution_count": 6
  },
  {
   "metadata": {
    "ExecuteTime": {
     "end_time": "2024-09-06T09:49:31.936664Z",
     "start_time": "2024-09-06T09:49:31.891988Z"
    }
   },
   "cell_type": "code",
   "source": [
    "from datadocai.metadata import TableMetadataManager\n",
    "from datadocai.metadata.exporter.json import MetadataJsonExporter\n",
    "\n",
    "metadata_exporter = MetadataJsonExporter(current_table=ct)\n",
    "\n",
    "tmm = TableMetadataManager(current_table=ct, database_client=dc, llm=llm, metadata_exporter=metadata_exporter)"
   ],
   "id": "cf42fdf24b173183",
   "outputs": [
    {
     "name": "stdout",
     "output_type": "stream",
     "text": [
      "[Errno 17] File exists: 'outputs/postgres/public'\n"
     ]
    }
   ],
   "execution_count": 7
  },
  {
   "metadata": {
    "ExecuteTime": {
     "end_time": "2024-09-06T09:50:36.290172Z",
     "start_time": "2024-09-06T09:50:36.268392Z"
    }
   },
   "cell_type": "code",
   "source": [
    "# launch the process\n",
    "result, exporter = tmm.process()"
   ],
   "id": "b6b80e260d63aa54",
   "outputs": [
    {
     "ename": "AttributeError",
     "evalue": "'TableMetadataManager' object has no attribute 'process'",
     "output_type": "error",
     "traceback": [
      "\u001B[0;31m---------------------------------------------------------------------------\u001B[0m",
      "\u001B[0;31mAttributeError\u001B[0m                            Traceback (most recent call last)",
      "Cell \u001B[0;32mIn[12], line 2\u001B[0m\n\u001B[1;32m      1\u001B[0m \u001B[38;5;66;03m# launch the process\u001B[39;00m\n\u001B[0;32m----> 2\u001B[0m result, exporter \u001B[38;5;241m=\u001B[39m \u001B[43mtmm\u001B[49m\u001B[38;5;241;43m.\u001B[39;49m\u001B[43mprocess\u001B[49m()\n",
      "\u001B[0;31mAttributeError\u001B[0m: 'TableMetadataManager' object has no attribute 'process'"
     ]
    }
   ],
   "execution_count": 12
  },
  {
   "metadata": {},
   "cell_type": "code",
   "source": "",
   "id": "5b35225b40b22f79",
   "outputs": [],
   "execution_count": null
  },
  {
   "metadata": {},
   "cell_type": "code",
   "source": "",
   "id": "a7c57e1e7cc7566e",
   "outputs": [],
   "execution_count": null
  }
 ],
 "metadata": {
  "kernelspec": {
   "display_name": "Python 3",
   "language": "python",
   "name": "python3"
  },
  "language_info": {
   "codemirror_mode": {
    "name": "ipython",
    "version": 2
   },
   "file_extension": ".py",
   "mimetype": "text/x-python",
   "name": "python",
   "nbconvert_exporter": "python",
   "pygments_lexer": "ipython2",
   "version": "2.7.6"
  }
 },
 "nbformat": 4,
 "nbformat_minor": 5
}
