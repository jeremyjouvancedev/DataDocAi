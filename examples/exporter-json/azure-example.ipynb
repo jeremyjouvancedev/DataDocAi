{
 "cells": [
  {
   "cell_type": "code",
   "execution_count": 2,
   "id": "initial_id",
   "metadata": {
    "ExecuteTime": {
     "end_time": "2024-09-06T09:49:27.028905Z",
     "start_time": "2024-09-06T09:49:27.021659Z"
    },
    "collapsed": true
   },
   "outputs": [],
   "source": [
    "from dotenv import load_dotenv"
   ]
  },
  {
   "cell_type": "code",
   "execution_count": null,
   "id": "5ef857ad54240335",
   "metadata": {
    "ExecuteTime": {
     "end_time": "2024-09-06T09:49:27.116333Z",
     "start_time": "2024-09-06T09:49:27.109444Z"
    }
   },
   "outputs": [],
   "source": [
    "env_loaded = load_dotenv('../../.env-local')\n",
    "env_loaded"
   ]
  },
  {
   "cell_type": "code",
   "execution_count": null,
   "id": "1d464f6668ab2073",
   "metadata": {
    "ExecuteTime": {
     "end_time": "2024-09-06T09:49:31.662152Z",
     "start_time": "2024-09-06T09:49:27.197791Z"
    }
   },
   "outputs": [],
   "source": [
    "from datadocai.models import CurrentTable\n",
    "\n",
    "TRINO_CATALOG = 'postgres'\n",
    "TRINO_SCHEMA = 'public'\n",
    "TRINO_TABLE = 'house_pricing'\n",
    "\n",
    "# construct the table you want to analyse\n",
    "ct = CurrentTable(trino_catalog=TRINO_CATALOG,\n",
    "                  trino_schema=TRINO_SCHEMA,\n",
    "                  trino_table=TRINO_TABLE)"
   ]
  },
  {
   "cell_type": "code",
   "execution_count": null,
   "id": "143d3061e4a516dd",
   "metadata": {
    "ExecuteTime": {
     "end_time": "2024-09-06T09:49:31.683883Z",
     "start_time": "2024-09-06T09:49:31.669232Z"
    }
   },
   "outputs": [],
   "source": [
    "import os\n",
    "from datadocai.database import DatabaseClient\n",
    "\n",
    "# connect to trino\n",
    "dc = DatabaseClient(host=os.getenv('TRINO_HOST'),\n",
    "                    port=os.getenv('TRINO_PORT'),\n",
    "                    user=os.getenv('TRINO_USER'),\n",
    "                    password=os.getenv('TRINO_PASSWORD'))"
   ]
  },
  {
   "cell_type": "code",
   "execution_count": 6,
   "id": "2838c68048c5a531",
   "metadata": {
    "ExecuteTime": {
     "end_time": "2024-09-06T09:49:31.881790Z",
     "start_time": "2024-09-06T09:49:31.720485Z"
    }
   },
   "outputs": [],
   "source": [
    "from langchain_openai.chat_models import AzureChatOpenAI\n",
    "from httpx import Client\n",
    "\n",
    "llm = AzureChatOpenAI(\n",
    "    deployment_name=\"gpt-4o\",\n",
    "    openai_api_version=\"2024-05-01-preview\",\n",
    "    streaming=True,\n",
    "    verbose=True,\n",
    "    http_client=Client(verify=False)\n",
    ")"
   ]
  },
  {
   "cell_type": "code",
   "execution_count": null,
   "id": "cf42fdf24b173183",
   "metadata": {
    "ExecuteTime": {
     "end_time": "2024-09-06T09:49:31.936664Z",
     "start_time": "2024-09-06T09:49:31.891988Z"
    }
   },
   "outputs": [],
   "source": [
    "from datadocai.metadata import TableMetadataManager\n",
    "from datadocai.metadata.exporter.json import MetadataJsonExporter\n",
    "\n",
    "metadata_exporter = MetadataJsonExporter(current_table=ct)\n",
    "\n",
    "tmm = TableMetadataManager(current_table=ct, database_client=dc, llm=llm, metadata_exporter=metadata_exporter)"
   ]
  },
  {
   "cell_type": "code",
   "execution_count": null,
   "id": "b6b80e260d63aa54",
   "metadata": {
    "ExecuteTime": {
     "end_time": "2024-09-06T09:50:36.290172Z",
     "start_time": "2024-09-06T09:50:36.268392Z"
    }
   },
   "outputs": [],
   "source": [
    "# launch the process\n",
    "result, exporter = tmm.process()"
   ]
  },
  {
   "cell_type": "code",
   "execution_count": null,
   "id": "5b35225b40b22f79",
   "metadata": {},
   "outputs": [],
   "source": []
  },
  {
   "cell_type": "code",
   "execution_count": null,
   "id": "a7c57e1e7cc7566e",
   "metadata": {},
   "outputs": [],
   "source": []
  }
 ],
 "metadata": {
  "kernelspec": {
   "display_name": "Python 3",
   "language": "python",
   "name": "python3"
  },
  "language_info": {
   "codemirror_mode": {
    "name": "ipython",
    "version": 2
   },
   "file_extension": ".py",
   "mimetype": "text/x-python",
   "name": "python",
   "nbconvert_exporter": "python",
   "pygments_lexer": "ipython2",
   "version": "2.7.6"
  }
 },
 "nbformat": 4,
 "nbformat_minor": 5
}
